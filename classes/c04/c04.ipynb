{
 "cells": [
  {
   "cell_type": "markdown",
   "id": "5e9f47f2-d57f-4f52-be0c-6243840ba3a8",
   "metadata": {},
   "source": [
    "## Занятие 4. Разработка ml проектов: хорошие и плохие практики\n",
    "На занятии 3 мы написали пайплайн обучения семантического сегментатора подводных фото в одном jupyter ноутбуке.\n",
    "\n",
    "На этом занятии мы оформим этот пайплайн в ml проект так, чтобы его можно было поддерживать и развивать.\n"
   ]
  },
  {
   "cell_type": "code",
   "execution_count": 1,
   "id": "f474e98a-fa1b-42a3-a808-e5d6ffb96fda",
   "metadata": {},
   "outputs": [],
   "source": [
    "from pathlib import Path\n",
    "ROOT_PATH = Path().absolute()\n",
    "assert ROOT_PATH.name == 'c04', ROOT_PATH.name\n",
    "ROOT_PATH"
   ]
  },
  {
   "cell_type": "markdown",
   "id": "19cafa43-251b-40c3-8151-7114fded5a6d",
   "metadata": {},
   "source": [
    "### Плохая практика 1: использование jupyter ноутбуков в качестве основного средства разработки\n",
    "- https://www.kdnuggets.com/2019/11/notebook-anti-pattern.html\n",
    "- https://analyticsindiamag.com/an-argument-against-using-jupyter-notebook-for-machine-learning/\n",
    "- https://medium.com/skyline-ai/jupyter-notebook-is-the-cancer-of-ml-engineering-70b98685ee71\n",
    "\n",
    "Главные проблемы:\n",
    "- нелинейность исполнения кода (сложно читать и сложно воспроизводить)\n",
    "- невозможность тестирования\n",
    "- нечитыемые diff-ы в git (сложно разобраться в истории и работать совместно)\n",
    "\n",
    "Jupyter ноутбуки хорошо подходят чтобы:\n",
    "- визуализировать данные\n",
    "- набросать прототип\n",
    "- поделиться однократным результатом\n",
    "\n",
    "\n",
    "#### **Решение**: \n",
    "Использовать стандартные инструменты разработки ЯП, например - Python пакеты."
   ]
  },
  {
   "cell_type": "code",
   "execution_count": 1,
   "id": "7c30f053-ecfb-4cdf-8054-96544bef8e13",
   "metadata": {},
   "outputs": [
    {
     "ename": "ModuleNotFoundError",
     "evalue": "No module named 'suim_segmentation'",
     "output_type": "error",
     "traceback": [
      "\u001b[1;31m---------------------------------------------------------------------------\u001b[0m",
      "\u001b[1;31mModuleNotFoundError\u001b[0m                       Traceback (most recent call last)",
      "Cell \u001b[1;32mIn [1], line 1\u001b[0m\n\u001b[1;32m----> 1\u001b[0m \u001b[38;5;28;01mfrom\u001b[39;00m \u001b[38;5;21;01msuim_segmentation\u001b[39;00m\u001b[38;5;21;01m.\u001b[39;00m\u001b[38;5;21;01mdata\u001b[39;00m \u001b[38;5;28;01mimport\u001b[39;00m SuimDataset\n",
      "\u001b[1;31mModuleNotFoundError\u001b[0m: No module named 'suim_segmentation'"
     ]
    }
   ],
   "source": [
    "# Python ищет пакеты в PYTHONPATH, если пакет не найден - то получаем ModuleNotFound\n",
    "from suim_segmentation.data import SuimDataset"
   ]
  },
  {
   "cell_type": "code",
   "execution_count": 2,
   "id": "95fa5c9a-2e90-40ba-b050-61b163fae416",
   "metadata": {},
   "outputs": [
    {
     "name": "stdout",
     "output_type": "stream",
     "text": [
      "D:\\edu\\teach\\course_cvdl\\classes\\c04\\package\n"
     ]
    }
   ],
   "source": [
    "cd package"
   ]
  },
  {
   "cell_type": "code",
   "execution_count": 92,
   "id": "2b3d451e-4c00-4eef-be47-c8b66d06c77b",
   "metadata": {},
   "outputs": [],
   "source": [
    "# В PYTHONPATH всегда содержится current_dir, так что из родительской директории можно импортировать пакет\n",
    "from suim_segmentation.data import SuimDataset"
   ]
  },
  {
   "cell_type": "code",
   "execution_count": 6,
   "id": "136bd506-722c-4b8f-abe3-17af6d715975",
   "metadata": {},
   "outputs": [
    {
     "data": {
      "text/plain": [
       "'D:\\\\edu\\\\teach\\\\course_cvdl\\\\classes\\\\c04\\\\package\\\\suim_segmentation\\\\data.py'"
      ]
     },
     "execution_count": 6,
     "metadata": {},
     "output_type": "execute_result"
    }
   ],
   "source": [
    "from suim_segmentation import data as suim_data\n",
    "suim_data.__file__"
   ]
  },
  {
   "cell_type": "markdown",
   "id": "ee323b2e-bb7a-4e43-9e21-95f3cc701a80",
   "metadata": {},
   "source": [
    "Если пакет находится в текущей папке, то его можно импортировать.\n",
    "\n",
    "Это не очень удобно - код можно будет вызывать только при определенной текущей директории.\n",
    "\n",
    "**Правильное решение - сделать пакет устанавливаемым!**"
   ]
  },
  {
   "cell_type": "markdown",
   "id": "98e5b14e-4368-444d-b262-909b271795a5",
   "metadata": {},
   "source": [
    "### 1.1 Пакетируем код"
   ]
  },
  {
   "cell_type": "markdown",
   "id": "ef4531b8-82d7-4b3c-a25c-fcd108be5dc0",
   "metadata": {},
   "source": [
    "На сегодня (2022 год) рекомендуется пакетировать код с помощью `pyproject.toml` файла:\n",
    "- поддерживает разные системы сборки (не только setuptools)\n",
    "- поддерживает C++ расширения\n",
    "- стандартизирован в PEP-518, PEP-621\n",
    "\n",
    "Есть и другие [способы](https://packaging.python.org/en/latest/glossary/?highlight=setup.py#term-setup.py), которые пока более распространены, но `pyproject.toml` является рекомендуемым"
   ]
  },
  {
   "cell_type": "code",
   "execution_count": 2,
   "id": "e04ff4e3-d121-43d6-892b-451b8f2f726e",
   "metadata": {},
   "outputs": [
    {
     "name": "stdout",
     "output_type": "stream",
     "text": [
      " Volume in drive D is Datadrive\n",
      " Volume Serial Number is 848A-4A05\n",
      "\n",
      " Directory of D:\\edu\\teach\\course_cvdl\\classes\\c04\\package\n",
      "\n",
      "07.10.2022  18:41    <DIR>          .\n",
      "07.10.2022  18:41    <DIR>          ..\n",
      "07.10.2022  15:49    <DIR>          .ipynb_checkpoints\n",
      "07.10.2022  18:05                 0 pyproject.toml\n",
      "07.10.2022  17:27    <DIR>          suim_segmentation\n",
      "07.10.2022  18:40    <DIR>          tmp\n",
      "               1 File(s)              0 bytes\n",
      "               5 Dir(s)  35В 990В 568В 960 bytes free\n"
     ]
    }
   ],
   "source": [
    "ls package"
   ]
  },
  {
   "cell_type": "code",
   "execution_count": 43,
   "id": "9f740855-b6c8-4d63-b1fa-613c154432ae",
   "metadata": {},
   "outputs": [
    {
     "name": "stdout",
     "output_type": "stream",
     "text": [
      "Overwriting D:\\edu\\teach\\course_cvdl\\classes\\c04\\package\\pyproject.toml\n"
     ]
    }
   ],
   "source": [
    "%%writefile {str(ROOT_PATH / 'package' / 'pyproject.toml')}\n",
    "\n",
    "[project]\n",
    "name = \"suim_segmentation\"\n",
    "description = \"ML project example package\"\n",
    "version = \"0.1.0\""
   ]
  },
  {
   "cell_type": "markdown",
   "id": "311d4f38-4e50-4102-bd49-aefa9939d83f",
   "metadata": {},
   "source": [
    "### Задачка 1\n",
    "Пользуясь гайдом https://packaging.python.org/en/latest/tutorials/packaging-projects/#creating-pyproject-toml, заполните pyproject.toml так, чтобы пакет можно было установить.\n",
    "\n",
    "*Возможно, нужно будет обновить pip: `python -m pip install -U pip`*"
   ]
  },
  {
   "cell_type": "raw",
   "id": "081157fa-623a-487a-aa12-9b0155a0602b",
   "metadata": {},
   "source": [
    "! pip install -e .\\package\\"
   ]
  },
  {
   "cell_type": "markdown",
   "id": "60c744fe-cf03-46fd-8db8-581e533e2360",
   "metadata": {},
   "source": [
    "Пакеты c `pyproject.toml` (или `setup.py`) можно устанавливать через git:\n",
    "`TODO`"
   ]
  },
  {
   "cell_type": "markdown",
   "id": "8dbcfc22-045d-45db-b973-a85d5bb051c0",
   "metadata": {},
   "source": [
    "### 1.1 Проверяем код на PEP-8 с помощью `pylint`\n",
    "Pylint - инструмент для проверки кода на соответствие PEP-8.\n",
    "\n",
    "`pip install pylint`\n",
    "\n",
    "Вывод всех нарушений PEP8 и оценки вашего кода: `python -m pylint suim_segmentation`\n",
    "\n",
    "Вывод только ошибок: `python -m pylint suim_segmentation/ -E`"
   ]
  },
  {
   "cell_type": "code",
   "execution_count": 19,
   "id": "062383ca-55c5-4351-b58a-b5f10be2b037",
   "metadata": {},
   "outputs": [
    {
     "name": "stdout",
     "output_type": "stream",
     "text": [
      "D:\\edu\\teach\\course_cvdl\\classes\\c04\n"
     ]
    }
   ],
   "source": [
    "cd ..\\package"
   ]
  },
  {
   "cell_type": "code",
   "execution_count": null,
   "id": "cea5a1ee-1dac-4cb1-b7c6-fa48235473db",
   "metadata": {},
   "outputs": [],
   "source": [
    "! python -m pylint suim_segmentation"
   ]
  },
  {
   "cell_type": "markdown",
   "id": "5fdf2af7-b1c0-44ae-a1cd-5be208025b99",
   "metadata": {},
   "source": [
    "### 1.2 Форматируем код с помощью `black`\n",
    "Часть ошибок форматирования можно поправить автоматически с помощью black.\n",
    "`pip install black`\n",
    "\n",
    "Форматирование: `python -m black suim_segmentation/`"
   ]
  },
  {
   "cell_type": "code",
   "execution_count": null,
   "id": "1c64f984-69ab-4222-85a6-664a253c97fa",
   "metadata": {},
   "outputs": [],
   "source": [
    "! python -m black suim_segmentation/"
   ]
  },
  {
   "cell_type": "code",
   "execution_count": null,
   "id": "522e0dfb-9c78-4d9e-93b0-bde1c5cfa38c",
   "metadata": {},
   "outputs": [],
   "source": [
    "! python -m pylint suim_segmentation"
   ]
  },
  {
   "cell_type": "markdown",
   "id": "a24f24f1-c7d4-4f34-a38e-95312dc9b5da",
   "metadata": {},
   "source": [
    "### 1.3 Тюним правил PEP-8 под свой проект\n",
    "Для pylint можно создать набор правил, по умолчанию - файл `.pylintrc`"
   ]
  },
  {
   "cell_type": "code",
   "execution_count": 45,
   "id": "b554cabd-92dd-480d-beee-109cc7b38804",
   "metadata": {},
   "outputs": [
    {
     "data": {
      "text/plain": [
       "'D:\\\\edu\\\\teach\\\\course_cvdl\\\\classes\\\\c04\\\\package\\\\.pylintrc'"
      ]
     },
     "execution_count": 45,
     "metadata": {},
     "output_type": "execute_result"
    }
   ],
   "source": [
    "str(ROOT_PATH / 'package' / '.pylintrc')"
   ]
  },
  {
   "cell_type": "code",
   "execution_count": 44,
   "id": "49469e31-c112-427b-b013-5331c8ff36e1",
   "metadata": {},
   "outputs": [
    {
     "name": "stdout",
     "output_type": "stream",
     "text": [
      "Overwriting D:\\edu\\teach\\course_cvdl\\classes\\c04\\package\\.pylintrc\n"
     ]
    }
   ],
   "source": [
    "%%writefile {str(ROOT_PATH / 'package' / '.pylintrc')}\n",
    "\n",
    "[TYPECHECK]\n",
    "# ignore torch member warnings - they are broken\n",
    "generated-members=numpy.*, torch.*\n",
    "\n",
    "[FORMAT]\n",
    "# allow x as a good name\n",
    "good-names=i,j,k,x\n",
    "# increase max length\n",
    "max-line-length=128"
   ]
  },
  {
   "cell_type": "code",
   "execution_count": null,
   "id": "9e8af41f-f33f-40a9-94b0-9c4aff846dc7",
   "metadata": {},
   "outputs": [],
   "source": [
    "! python -m pylint suim_segmentation"
   ]
  },
  {
   "cell_type": "markdown",
   "id": "b9badc7b-85be-4d53-808f-7bc330500f92",
   "metadata": {},
   "source": [
    "### 1.4 Пишем \"точку входа\" в пайплайн (скрипт обучения) "
   ]
  },
  {
   "cell_type": "code",
   "execution_count": 46,
   "id": "b08e829a-4e23-498d-be97-8b2c337d6080",
   "metadata": {},
   "outputs": [
    {
     "name": "stdout",
     "output_type": "stream",
     "text": [
      "Overwriting D:\\edu\\teach\\course_cvdl\\classes\\c04\\package\\suim_segmentation\\run.py\n"
     ]
    }
   ],
   "source": [
    "%%writefile {str(ROOT_PATH / 'package' / 'suim_segmentation' / 'run.py')}\n",
    "\n",
    "import argparse\n",
    "from pathlib import Path\n",
    "\n",
    "import torch\n",
    "from torch.utils import data as tdata\n",
    "from tqdm import tqdm\n",
    "\n",
    "from .data import SuimDataset, EveryNthFilterSampler\n",
    "from .model import SuimModel\n",
    "from .loss import DiceLoss\n",
    "from .metrics import Accuracy\n",
    "from .trainer import Trainer\n",
    "\n",
    "\n",
    "def run_pipeline(args):\n",
    "    device = None\n",
    "    model = None\n",
    "    opt = None\n",
    "\n",
    "    train_val_ds = None\n",
    "    test_ds = None\n",
    "    \n",
    "    test_iter = None\n",
    "    train_iter = None\n",
    "    val_iter = None\n",
    "    \n",
    "    loss = None\n",
    "    metric = None\n",
    "    \n",
    "    trainer = Trainer(\n",
    "        net=model,\n",
    "        opt=opt,\n",
    "        train_loader=train_iter,\n",
    "        val_loader=val_iter,\n",
    "        test_loader=test_iter,\n",
    "        loss=loss,\n",
    "        metric=metric,\n",
    "    )\n",
    "    for e in tqdm(range(args.num_epochs)):\n",
    "        print(f\"Epoch {e}\")\n",
    "        epoch_stats = trainer(1)\n",
    "\n",
    "\n",
    "def parse_args():\n",
    "    parser = argparse.ArgumentParser()\n",
    "    parser.add_argument(\"--name\", type=str, required=True)\n",
    "    parser.add_argument(\"--train-data\", type=str, required=True)\n",
    "    parser.add_argument(\"--test-data\", type=str, required=True)\n",
    "    parser.add_argument(\"--lr\", type=float, required=True)\n",
    "    parser.add_argument(\"--num-epochs\", type=int, required=True)\n",
    "    parser.add_argument(\"--batch-size\", type=int, default=16)\n",
    "    parser.add_argument(\"--device\", type=str, default='cpu:0')\n",
    "    return parser.parse_args()\n",
    "\n",
    "\n",
    "if __name__ == \"__main__\":\n",
    "    args = parse_args()\n",
    "    run_pipeline(args)\n",
    "    print(\"Finished\")"
   ]
  },
  {
   "cell_type": "markdown",
   "id": "9da5479f-9610-4cdd-8996-d2bbbfebedf0",
   "metadata": {},
   "source": [
    "### Задачка 2\n",
    "Пользуясь ноутбуком с предыдущего занятия, допишите `suim_segmentation/run.py`, чтобы тренировка корректно запускалась.\n"
   ]
  },
  {
   "cell_type": "code",
   "execution_count": 26,
   "id": "69e40453-1ae4-4085-92f8-de4483b84ce2",
   "metadata": {},
   "outputs": [
    {
     "name": "stdout",
     "output_type": "stream",
     "text": [
      "Testing:\n",
      "Stats: Loss=0.93 Metric=0.31\n"
     ]
    },
    {
     "name": "stderr",
     "output_type": "stream",
     "text": [
      "\n",
      "0it [00:00, ?it/s]\n",
      "0it [00:00, ?it/s]\n",
      "C:\\Users\\bzimka\\Anaconda3\\envs\\torchedu\\lib\\site-packages\\segmentation_models_pytorch\\base\\modules.py:116: UserWarning: Implicit dimension choice for softmax has been deprecated. Change the call to include dim=X as an argument.\n",
      "  return self.activation(x)\n"
     ]
    }
   ],
   "source": [
    "! python -m suim_segmentation.run --name=baseline --lr=0.03 --num-epochs=0 --batch-size=32 --device=cuda:0 \\\n",
    "    --train-data=D:\\edu\\teach\\course_cvdl\\classes\\c03\\suim_dataset\\train_val\\train_val \\\n",
    "    --test-data=D:\\edu\\teach\\course_cvdl\\classes\\c03\\suim_dataset\\TEST\\TEST "
   ]
  },
  {
   "cell_type": "markdown",
   "id": "958e2244-ad23-4c86-9cb1-12ba80bb0b48",
   "metadata": {},
   "source": [
    "### Плохая практика 2: \"ручное\" копирование данных\n",
    "\n",
    "*Из с03/README.md:*\n",
    "\n",
    "`скачать датасет SUIM с GoogleDrive: https://drive.google.com/drive/folders/10KMK0rNB43V2g30NcA1RYipL535DuZ-h`\n",
    "\n",
    "- В реальных проектах (индустрия/соревнования) часто используется несколько датасетов, а не один\n",
    "- Они могут быть в разных форматах, а код проекта обычно работает только с одним форматом\n",
    "- Датасет может обновляться - даже у ImageNet есть [version2](https://proceedings.mlr.press/v97/recht19a/recht19a.pdf)\n",
    "- Часто датасет нужен на разных машинах (например, локальной и devbox с GPU)\n",
    "\n",
    "#### **Решение**: \n",
    "Использовать инструменты для управления данными, например - [dvc](https://dvc.org)"
   ]
  },
  {
   "cell_type": "raw",
   "id": "bbdaebf1-6e71-4be5-a5b7-ff29715c24ba",
   "metadata": {},
   "source": [
    "! pip install dvc[gdrive]"
   ]
  },
  {
   "cell_type": "markdown",
   "id": "dfbee11b-59f9-40f6-b01b-9319f40fff79",
   "metadata": {},
   "source": [
    "![dvc scheme was not loaded](dvc_scheme.png \"DVC scheme\")"
   ]
  },
  {
   "cell_type": "markdown",
   "id": "a38f50b2-9f29-4012-945a-1d25f12e1d54",
   "metadata": {},
   "source": [
    "### 2.1 Добавляем google-drive в качестве хранилища\n",
    "\n",
    "https://dvc.org/doc/user-guide/how-to/setup-google-drive-remote"
   ]
  },
  {
   "cell_type": "raw",
   "id": "1ca10251-d01a-4464-8b66-8f5a669b7ac4",
   "metadata": {},
   "source": [
    "mkdir data"
   ]
  },
  {
   "cell_type": "raw",
   "id": "f21fb771-56bf-448b-a292-54128a2021ad",
   "metadata": {},
   "source": [
    "cd data"
   ]
  },
  {
   "cell_type": "raw",
   "id": "e55aa08b-b804-4e9c-bb99-e4c68b5c20e9",
   "metadata": {},
   "source": [
    "! dvc init --subdir"
   ]
  },
  {
   "cell_type": "code",
   "execution_count": 8,
   "id": "60543b7a-bba9-427a-abcb-7facaf54b8a6",
   "metadata": {},
   "outputs": [],
   "source": [
    "! dvc remote add mygoogledrive gdrive://1_8FVmJgPW-dwYr8jOe9PQupCEy53WQ4d"
   ]
  },
  {
   "cell_type": "code",
   "execution_count": 9,
   "id": "a2f8e260-8a1e-461f-ba23-c09f3547ff28",
   "metadata": {},
   "outputs": [
    {
     "name": "stdout",
     "output_type": "stream",
     "text": [
      "mygoogledrive\tgdrive://1_8FVmJgPW-dwYr8jOe9PQupCEy53WQ4d\n"
     ]
    }
   ],
   "source": [
    "! dvc remote list"
   ]
  },
  {
   "cell_type": "markdown",
   "id": "f06d2879-dfbe-4252-ad27-6482e8891aa6",
   "metadata": {},
   "source": [
    "Добавим test-данные в индекс dvc"
   ]
  },
  {
   "cell_type": "code",
   "execution_count": 7,
   "id": "3a1bf2cd-bc3e-41b5-9330-098333054608",
   "metadata": {},
   "outputs": [
    {
     "data": {
      "text/plain": [
       "'D:\\\\edu\\\\teach\\\\course_cvdl\\\\classes\\\\c04\\\\data\\\\test'"
      ]
     },
     "execution_count": 7,
     "metadata": {},
     "output_type": "execute_result"
    }
   ],
   "source": [
    "import shutil\n",
    "\n",
    "source_dataset = ROOT_PATH.parent / 'c03' / 'suim_dataset' / 'test'\n",
    "assert source_dataset.exists()\n",
    "\n",
    "target_dataset = ROOT_PATH / 'data'/ 'test'\n",
    "shutil.copytree(str(source_dataset), str(target_dataset))"
   ]
  },
  {
   "cell_type": "code",
   "execution_count": 9,
   "id": "0cdebe7c-a930-4b83-b08a-cbbf9ced4c0f",
   "metadata": {},
   "outputs": [
    {
     "name": "stdout",
     "output_type": "stream",
     "text": [
      "\n",
      "To track the changes with git, run:\n",
      "\n",
      "\tgit add .gitignore test.dvc\n",
      "\n",
      "To enable auto staging, run:\n",
      "\n",
      "\tdvc config core.autostage true\n"
     ]
    }
   ],
   "source": [
    "! dvc add test"
   ]
  },
  {
   "cell_type": "markdown",
   "id": "e0b7b575-4c9f-45bb-ad4f-5a6a9168de35",
   "metadata": {},
   "source": [
    "Отправим данные в хранилище"
   ]
  },
  {
   "cell_type": "code",
   "execution_count": null,
   "id": "493d5b8b-795d-4f12-bbb2-7adb4cd72fcf",
   "metadata": {},
   "outputs": [],
   "source": [
    "! dvc push test.dvc --remote=mygoogledrive"
   ]
  },
  {
   "cell_type": "markdown",
   "id": "133ecf6c-1a18-418c-9897-7ef56b261c67",
   "metadata": {},
   "source": [
    "Сохраним ярлыки в git\n",
    "`TODO`"
   ]
  },
  {
   "cell_type": "markdown",
   "id": "f7063f29-d99e-4f59-9b41-9d976291f6e1",
   "metadata": {},
   "source": [
    "### Плохая практика 3: проведение экспериментов без отслеживания результатов\n",
    "Достижение лучшх результатов в любой ml-задаче требуют множество экспериментов, каждый из которых дает небольшое улучшение (или ухудшение).\n",
    "\n",
    "Результаты экспериментов необходимо сравнивать между собой, чтобы оставлять успешные идеи и отбрасывать неудачные.\n",
    "\n",
    "Простейший (ручной) способ отслеживания экспериментов:\n",
    "- выполнили эксперимент N, запомнили метрики\n",
    "- выполнили эксперимент N+1, сравнили метрики с N, запомнили\n",
    "- выполнили эксперимент N+2, сравнили метрики с N+1, запомнили\n",
    "- ...\n",
    "\n",
    "Главная проблема: **после эксперимента не остаётся следов (артефактов)**\n",
    "\n",
    "Проблемы-следствия:\n",
    "- нельзя сравнить результаты эксперименты N и (N+10) \n",
    "- сложно провести многовариантный, а не бинарный эксперимент\n",
    "- сложно воспроизвести идею N (если она стала снова актуальной)\n",
    "- нужно держать в голове, насколько хорощо/плохо сработала идея когда-то в прошлом\n",
    "\n",
    "**Решение:** Логировать все параметры и результаты эксперимента"
   ]
  },
  {
   "cell_type": "markdown",
   "id": "11748159-56e2-4e75-8922-75a7e0ef4449",
   "metadata": {},
   "source": [
    "### 3.1 Подключаем Weights & Biases\n",
    "https://docs.wandb.ai/quickstart\n",
    "\n",
    "1. Устанавливаем wandb: `! pip install wandb`\n",
    "2. Авторизуемся на `https://wandb.ai/login` (например, через GitHub)\n",
    "3. Заходим на `https://wandb.ai/settings`, копируем ключ из `API keys`\n",
    "4. Выполняем `$ wandb login <YOUR API KEY>` "
   ]
  },
  {
   "cell_type": "markdown",
   "id": "3411b771-f9e1-4b75-974e-55ba88445064",
   "metadata": {},
   "source": [
    "### 3.2 Проверяем wnb"
   ]
  },
  {
   "cell_type": "code",
   "execution_count": 47,
   "id": "c83b3217-f257-4287-ba02-f2b3f259acc3",
   "metadata": {},
   "outputs": [],
   "source": [
    "import wandb"
   ]
  },
  {
   "cell_type": "code",
   "execution_count": 76,
   "id": "5721f289-f938-454c-9b8f-3ad796900f77",
   "metadata": {},
   "outputs": [
    {
     "data": {
      "text/html": [
       "Tracking run with wandb version 0.13.4"
      ],
      "text/plain": [
       "<IPython.core.display.HTML object>"
      ]
     },
     "metadata": {},
     "output_type": "display_data"
    },
    {
     "data": {
      "text/html": [
       "Run data is saved locally in <code>D:\\edu\\teach\\course_cvdl\\classes\\c04\\package\\wandb\\run-20221009_195322-1mdzokc3</code>"
      ],
      "text/plain": [
       "<IPython.core.display.HTML object>"
      ]
     },
     "metadata": {},
     "output_type": "display_data"
    },
    {
     "data": {
      "text/html": [
       "Syncing run <strong><a href=\"https://wandb.ai/zimka/hello_world/runs/1mdzokc3\" target=\"_blank\">second</a></strong> to <a href=\"https://wandb.ai/zimka/hello_world\" target=\"_blank\">Weights & Biases</a> (<a href=\"https://wandb.me/run\" target=\"_blank\">docs</a>)<br/>"
      ],
      "text/plain": [
       "<IPython.core.display.HTML object>"
      ]
     },
     "metadata": {},
     "output_type": "display_data"
    },
    {
     "data": {
      "text/html": [
       "<button onClick=\"this.nextSibling.style.display='block';this.style.display='none';\">Display W&B run</button><iframe src=\"https://wandb.ai/zimka/hello_world/runs/1mdzokc3?jupyter=true\" style=\"border:none;width:100%;height:420px;display:none;\"></iframe>"
      ],
      "text/plain": [
       "<wandb.sdk.wandb_run.Run at 0x20216f560e0>"
      ]
     },
     "execution_count": 76,
     "metadata": {},
     "output_type": "execute_result"
    }
   ],
   "source": [
    "wandb.init(project='hello_world', config={'lr': 0.01, 'foo': 'bar', 'something': True}, name='second')"
   ]
  },
  {
   "cell_type": "markdown",
   "id": "d694c34d-d74c-4a3f-9763-c034e3e59073",
   "metadata": {},
   "source": [
    "Можно логировать численные величины. Каждое вызов log неявно увеличивает внутренний счётчик шагов."
   ]
  },
  {
   "cell_type": "code",
   "execution_count": 79,
   "id": "152b9a60-9163-44e0-8268-4565ac82d575",
   "metadata": {},
   "outputs": [],
   "source": [
    "wandb.log({\"train\": {\"loss\": 0.9, \"metric\": 0.5}, \"val\": {\"loss\": 0.4, \"acc\": 0.8}})"
   ]
  },
  {
   "cell_type": "code",
   "execution_count": 80,
   "id": "d743e0f3-2b53-4cc9-8faf-9f90586e74bc",
   "metadata": {},
   "outputs": [],
   "source": [
    "wandb.log({\"train\": {\"loss\": 0.8, \"metric\": 0.5}, \"val\": {\"loss\": 0.35, \"acc\": 0.8}})"
   ]
  },
  {
   "cell_type": "code",
   "execution_count": 81,
   "id": "44b05a8e-5501-4e76-b37b-1f26a24502b1",
   "metadata": {},
   "outputs": [],
   "source": [
    "wandb.log({\"train\": {\"loss\": 0.75, \"metric\": 0.52}, \"val\": {\"loss\": 0.33, \"acc\": 0.7}})"
   ]
  },
  {
   "cell_type": "code",
   "execution_count": 82,
   "id": "a95bca63-1b30-435e-83cb-5913a3d0798e",
   "metadata": {},
   "outputs": [],
   "source": [
    "wandb.log({\"train\": {\"loss\": 0.74, \"metric\": 0.52}, \"val\": {\"loss\": 0.32, \"acc\": 0.7}})"
   ]
  },
  {
   "cell_type": "markdown",
   "id": "f8a29970-f4fb-446d-afef-a66860eb6711",
   "metadata": {},
   "source": [
    "Можно явно указать шаг, к которому относится запись"
   ]
  },
  {
   "cell_type": "code",
   "execution_count": 83,
   "id": "bc9f2ba3-964e-49ce-bd69-5c011e96929a",
   "metadata": {},
   "outputs": [],
   "source": [
    "wandb.log({\"train\": {\"loss\": 0.74, \"metric\": 0.52}, \"val\": {\"loss\": 0.32, \"acc\": 0.7}}, step=20)"
   ]
  },
  {
   "cell_type": "markdown",
   "id": "b1958c60-07fd-432d-bb1b-77c6d3e3e07a",
   "metadata": {},
   "source": [
    "Каждый вызов log добавляет аргументы во внутреннее состояние и коммитит **предыдущие** значения.\n",
    "\n",
    "Можно считать, что каждый вызов .log - это `git commit` старых данных + `git add` новых данных."
   ]
  },
  {
   "cell_type": "code",
   "execution_count": 84,
   "id": "f0d1ff7d-2913-4fe2-8914-1ed0789639b4",
   "metadata": {},
   "outputs": [],
   "source": [
    "wandb.log({\"train\": {\"loss\": 0.74, \"metric\": 0.52}, \"val\": {\"loss\": 0.32, \"acc\": 0.7}}, step=50)"
   ]
  },
  {
   "cell_type": "markdown",
   "id": "8dfa92a7-8696-4f35-9b4f-eff04e0b55b0",
   "metadata": {},
   "source": [
    "Можно логировать не только численные величины - например, изображения с масками."
   ]
  },
  {
   "cell_type": "code",
   "execution_count": 85,
   "id": "4b8ef787-4b23-4fbc-ac36-c44081fd5dab",
   "metadata": {},
   "outputs": [],
   "source": [
    "from suim_segmentation.data import SuimDataset\n",
    "\n",
    "test_data = SuimDataset(root=ROOT_PATH / 'data' / 'test' / 'TEST', masks_as_color=False)"
   ]
  },
  {
   "cell_type": "code",
   "execution_count": 86,
   "id": "cc84f73f-5bd3-4e27-a54d-8c7919ea0fc1",
   "metadata": {},
   "outputs": [],
   "source": [
    "x_img, y_mask = test_data[2]"
   ]
  },
  {
   "cell_type": "code",
   "execution_count": 87,
   "id": "208f3073-a818-495e-9185-9a1abddd7196",
   "metadata": {},
   "outputs": [
    {
     "data": {
      "text/plain": [
       "(('Background(waterbody)', '000'),\n",
       " ('Human divers', '001'),\n",
       " ('Aquatic plants and sea-grass', '010'),\n",
       " ('Wrecks and ruins', '011'),\n",
       " ('Robots (AUVs/ROVs/instruments)', '100'),\n",
       " ('Reefs and invertebrates', '101'),\n",
       " ('Fish and vertebrates', '110'),\n",
       " ('Sea-floor and rocks', '111'))"
      ]
     },
     "execution_count": 87,
     "metadata": {},
     "output_type": "execute_result"
    }
   ],
   "source": [
    "SuimDataset.LABEL_COLORS"
   ]
  },
  {
   "cell_type": "code",
   "execution_count": 88,
   "id": "c0ad66a4-bfda-4784-87b3-39ff0564762b",
   "metadata": {},
   "outputs": [],
   "source": [
    "class_labels = dict(\n",
    "    (num, cls_name) for num, (cls_name, binary_idx) in enumerate(SuimDataset.LABEL_COLORS)\n",
    ")\n",
    "mask_img = wandb.Image(x_img.permute(1, 2, 0).numpy(), masks={\n",
    "  \"predictions\": {\n",
    "    \"mask_data\": y_mask[0].numpy(),\n",
    "    \"class_labels\": class_labels\n",
    "  }\n",
    "})"
   ]
  },
  {
   "cell_type": "code",
   "execution_count": 89,
   "id": "058d7130-4476-4c7b-815e-5c8b08e9f342",
   "metadata": {},
   "outputs": [],
   "source": [
    "wandb.log({\"gt_example\": mask_img})"
   ]
  },
  {
   "cell_type": "markdown",
   "id": "e89c9de1-5587-40cc-8062-d0e72c751b60",
   "metadata": {},
   "source": [
    "Можно добавить ключ-значение в summary"
   ]
  },
  {
   "cell_type": "code",
   "execution_count": 90,
   "id": "8d7e9751-448e-4ba0-8a40-7687198bd816",
   "metadata": {},
   "outputs": [],
   "source": [
    "wandb.run.summary['my_key'] = 'my_important_value'"
   ]
  },
  {
   "cell_type": "code",
   "execution_count": 91,
   "id": "26a0a767-fe2c-4111-b7f3-133b068ab976",
   "metadata": {},
   "outputs": [
    {
     "data": {
      "text/html": [
       "Waiting for W&B process to finish... <strong style=\"color:green\">(success).</strong>"
      ],
      "text/plain": [
       "<IPython.core.display.HTML object>"
      ]
     },
     "metadata": {},
     "output_type": "display_data"
    },
    {
     "data": {
      "text/html": [
       "<style>\n",
       "    table.wandb td:nth-child(1) { padding: 0 10px; text-align: left ; width: auto;} td:nth-child(2) {text-align: left ; width: 100%}\n",
       "    .wandb-row { display: flex; flex-direction: row; flex-wrap: wrap; justify-content: flex-start; width: 100% }\n",
       "    .wandb-col { display: flex; flex-direction: column; flex-basis: 100%; flex: 1; padding: 10px; }\n",
       "    </style>\n",
       "<div class=\"wandb-row\"><div class=\"wandb-col\"><h3>Run summary:</h3><br/><table class=\"wandb\"><tr><td>my_key</td><td>my_important_value</td></tr></table><br/></div></div>"
      ],
      "text/plain": [
       "<IPython.core.display.HTML object>"
      ]
     },
     "metadata": {},
     "output_type": "display_data"
    },
    {
     "data": {
      "text/html": [
       "Synced <strong style=\"color:#cdcd00\">second</strong>: <a href=\"https://wandb.ai/zimka/hello_world/runs/1mdzokc3\" target=\"_blank\">https://wandb.ai/zimka/hello_world/runs/1mdzokc3</a><br/>Synced 5 W&B file(s), 2 media file(s), 0 artifact file(s) and 0 other file(s)"
      ],
      "text/plain": [
       "<IPython.core.display.HTML object>"
      ]
     },
     "metadata": {},
     "output_type": "display_data"
    },
    {
     "data": {
      "text/html": [
       "Find logs at: <code>.\\wandb\\run-20221009_195322-1mdzokc3\\logs</code>"
      ],
      "text/plain": [
       "<IPython.core.display.HTML object>"
      ]
     },
     "metadata": {},
     "output_type": "display_data"
    }
   ],
   "source": [
    "wandb.finish()"
   ]
  },
  {
   "cell_type": "markdown",
   "id": "54c64437-2cdb-4694-96d3-b8939b443fcf",
   "metadata": {},
   "source": [
    "### 3.3 Логируем параметры и результаты эксперимента\n",
    "### Задачка 3\n",
    "Дописать код run.py так, чтобы логировались (как минимум):\n",
    "- Средние train.loss, train.metric, val.loss, val.metric для каждой эпохт\n",
    "- Средние test.loss, test.metric однократно\n",
    "\n",
    "Сделать проект публичным, скинуть ссылку на свой wandb отчет"
   ]
  }
 ],
 "metadata": {
  "kernelspec": {
   "display_name": "Python 3 (ipykernel)",
   "language": "python",
   "name": "python3"
  },
  "language_info": {
   "codemirror_mode": {
    "name": "ipython",
    "version": 3
   },
   "file_extension": ".py",
   "mimetype": "text/x-python",
   "name": "python",
   "nbconvert_exporter": "python",
   "pygments_lexer": "ipython3",
   "version": "3.10.4"
  }
 },
 "nbformat": 4,
 "nbformat_minor": 5
}
